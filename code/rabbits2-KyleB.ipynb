{
 "cells": [
  {
   "cell_type": "markdown",
   "metadata": {},
   "source": [
    "# Modeling and Simulation in Python\n",
    "\n",
    "Rabbit example\n",
    "\n",
    "Copyright 2017 Allen Downey\n",
    "\n",
    "License: [Creative Commons Attribution 4.0 International](https://creativecommons.org/licenses/by/4.0)\n"
   ]
  },
  {
   "cell_type": "code",
   "execution_count": 1,
   "metadata": {
    "collapsed": true
   },
   "outputs": [],
   "source": [
    "%matplotlib inline\n",
    "\n",
    "from modsim import *"
   ]
  },
  {
   "cell_type": "markdown",
   "metadata": {},
   "source": [
    "## Rabbit Redux\n",
    "\n",
    "This notebook starts with a version of the rabbit population growth model and walks through some steps for extending it.\n",
    "\n",
    "In the original model, we treat all rabbits as adults; that is, we assume that a rabbit is able to breed in the season after it is born.  In this notebook, we extend the model to include both juvenile and adult rabbits.\n",
    "\n",
    "As an example, let's assume that rabbits take 3 seasons to mature.  We could model that process explicitly by counting the number of rabbits that are 1, 2, or 3 seasons old.  As an alternative, we can model just two stages, juvenile and adult.  In the simpler model, the maturation rate is 1/3 of the juveniles per season.\n",
    "\n",
    "To implement this model, make these changes in the System object:\n",
    "\n",
    "0.  Before you make any changes, run all cells and confirm your understand them.\n",
    "\n",
    "1.  Then, add a second initial populations: `juvenile_pop0`, with value `0`.\n",
    "\n",
    "2.  Add an additional variable, `mature_rate`, with the value `0.33`."
   ]
  },
  {
   "cell_type": "code",
   "execution_count": 10,
   "metadata": {},
   "outputs": [
    {
     "data": {
      "text/html": [
       "<div>\n",
       "<style>\n",
       "    .dataframe thead tr:only-child th {\n",
       "        text-align: right;\n",
       "    }\n",
       "\n",
       "    .dataframe thead th {\n",
       "        text-align: left;\n",
       "    }\n",
       "\n",
       "    .dataframe tbody tr th {\n",
       "        vertical-align: top;\n",
       "    }\n",
       "</style>\n",
       "<table border=\"1\" class=\"dataframe\">\n",
       "  <thead>\n",
       "    <tr style=\"text-align: right;\">\n",
       "      <th></th>\n",
       "      <th>value</th>\n",
       "    </tr>\n",
       "  </thead>\n",
       "  <tbody>\n",
       "    <tr>\n",
       "      <th>t0</th>\n",
       "      <td>0.00</td>\n",
       "    </tr>\n",
       "    <tr>\n",
       "      <th>t_end</th>\n",
       "      <td>30.00</td>\n",
       "    </tr>\n",
       "    <tr>\n",
       "      <th>adult_pop0</th>\n",
       "      <td>10.00</td>\n",
       "    </tr>\n",
       "    <tr>\n",
       "      <th>birth_rate</th>\n",
       "      <td>0.90</td>\n",
       "    </tr>\n",
       "    <tr>\n",
       "      <th>death_rate</th>\n",
       "      <td>0.50</td>\n",
       "    </tr>\n",
       "    <tr>\n",
       "      <th>juvenile_pop0</th>\n",
       "      <td>0.00</td>\n",
       "    </tr>\n",
       "    <tr>\n",
       "      <th>mature_rate</th>\n",
       "      <td>0.33</td>\n",
       "    </tr>\n",
       "  </tbody>\n",
       "</table>\n",
       "</div>"
      ],
      "text/plain": [
       "t0                0.00\n",
       "t_end            30.00\n",
       "adult_pop0       10.00\n",
       "birth_rate        0.90\n",
       "death_rate        0.50\n",
       "juvenile_pop0     0.00\n",
       "mature_rate       0.33\n",
       "dtype: float64"
      ]
     },
     "execution_count": 10,
     "metadata": {},
     "output_type": "execute_result"
    }
   ],
   "source": [
    "system = System(t0 = 0, \n",
    "                t_end = 30,\n",
    "                adult_pop0 = 10,\n",
    "                birth_rate = 0.9,\n",
    "                death_rate = 0.5,\n",
    "                juvenile_pop0 = 0,\n",
    "                mature_rate = 0.33)\n",
    "\n",
    "system"
   ]
  },
  {
   "cell_type": "markdown",
   "metadata": {},
   "source": [
    "Now update `run_simulation` with the following changes:\n",
    "\n",
    "1.  Add a second TimeSeries, named `juveniles`, to keep track of the juvenile population, and initialize it with `juvenile_pop0`.\n",
    "\n",
    "2.  Inside the for loop, compute the number of juveniles that mature during each time step.\n",
    "\n",
    "3.  Also inside the for loop, add a line that stores the number of juveniles in the new `TimeSeries`.  For simplicity, let's assume that only adult rabbits die.\n",
    "\n",
    "4.  During each time step, subtract the number of maturations from the juvenile population and add it to the adult population.\n",
    "\n",
    "5.  After the for loop, store the `juveniles` `TimeSeries` as a variable in `System`."
   ]
  },
  {
   "cell_type": "code",
   "execution_count": 11,
   "metadata": {
    "collapsed": true
   },
   "outputs": [],
   "source": [
    "def run_simulation(system):\n",
    "    \"\"\"Runs a proportional growth model.\n",
    "    \n",
    "    Adds TimeSeries to `system` as `results`.\n",
    "    \n",
    "    system: System object with t0, t_end, p0,\n",
    "            birth_rate and death_rate\n",
    "    \"\"\"\n",
    "    adults = TimeSeries()\n",
    "    adults[system.t0] = system.adult_pop0\n",
    "    \n",
    "    juvenile = TimeSeries()\n",
    "    juvenile[system.t0] = system.juvenile_pop0\n",
    "    \n",
    "    for t in linrange(system.t0, system.t_end):\n",
    "        births = system.birth_rate * adults[t]\n",
    "        deaths = system.death_rate * adults[t]\n",
    "        new_adults = system.mature_rate * juvenile[t]\n",
    "        \n",
    "        juvenile[t+1] = juvenile[t] + births - new_adults\n",
    "        adults[t+1] = adults[t] - deaths + new_adults\n",
    "        \n",
    "    system.adults = adults\n",
    "    system.juvenile = juvenile"
   ]
  },
  {
   "cell_type": "markdown",
   "metadata": {},
   "source": [
    "Test your changes in `run_simulation`:"
   ]
  },
  {
   "cell_type": "code",
   "execution_count": 12,
   "metadata": {},
   "outputs": [
    {
     "name": "stdout",
     "output_type": "stream",
     "text": [
      "0      10.000000\n",
      "1       5.000000\n",
      "2       5.470000\n",
      "3       6.209900\n",
      "4       7.057723\n",
      "5       8.021560\n",
      "6       9.117031\n",
      "7      10.362107\n",
      "8      11.777219\n",
      "9      13.385586\n",
      "10     15.213601\n",
      "11     17.291261\n",
      "12     19.652658\n",
      "13     22.336542\n",
      "14     25.386953\n",
      "15     28.853947\n",
      "16     32.794414\n",
      "17     37.273014\n",
      "18     42.363239\n",
      "19     48.148615\n",
      "20     54.724076\n",
      "21     62.197522\n",
      "22     70.691585\n",
      "23     80.345649\n",
      "24     91.318129\n",
      "25    103.789076\n",
      "26    117.963131\n",
      "27    134.072878\n",
      "28    152.382668\n",
      "29    173.192952\n",
      "30    196.845213\n",
      "31    223.727567\n",
      "dtype: float64 0       0.000000\n",
      "1       9.000000\n",
      "2      10.530000\n",
      "3      11.978100\n",
      "4      13.614237\n",
      "5      15.473489\n",
      "6      17.586642\n",
      "7      19.988378\n",
      "8      22.718110\n",
      "9      25.820630\n",
      "10     29.346849\n",
      "11     33.354630\n",
      "12     37.909737\n",
      "13     43.086916\n",
      "14     48.971122\n",
      "15     55.658910\n",
      "16     63.260022\n",
      "17     71.899187\n",
      "18     81.718168\n",
      "19     92.878087\n",
      "20    105.562071\n",
      "21    119.978256\n",
      "22    136.363201\n",
      "23    154.985772\n",
      "24    176.151551\n",
      "25    200.207855\n",
      "26    227.549432\n",
      "27    258.624937\n",
      "28    293.944298\n",
      "29    334.087081\n",
      "30    379.712001\n",
      "31    431.567732\n",
      "dtype: float64\n"
     ]
    }
   ],
   "source": [
    "run_simulation(system)\n",
    "print(system.adults, system.juvenile)"
   ]
  },
  {
   "cell_type": "markdown",
   "metadata": {},
   "source": [
    "Next, update `plot_results` to plot both the adult and juvenile `TimeSeries`."
   ]
  },
  {
   "cell_type": "code",
   "execution_count": 13,
   "metadata": {
    "collapsed": true
   },
   "outputs": [],
   "source": [
    "def plot_results(system, title=None):\n",
    "    \"\"\"Plot the estimates and the model.\n",
    "    \n",
    "    system: System object with `results`\n",
    "    \"\"\"\n",
    "    newfig()\n",
    "    plot(system.adults, 'bo-', label='adults')\n",
    "    plot(system.juvenile, 'ro-', label='juveniles')\n",
    "    decorate(xlabel='Season', \n",
    "             ylabel='Rabbit population',\n",
    "             title=title)"
   ]
  },
  {
   "cell_type": "markdown",
   "metadata": {},
   "source": [
    "And test your updated version of `plot_results`."
   ]
  },
  {
   "cell_type": "code",
   "execution_count": 14,
   "metadata": {},
   "outputs": [
    {
     "data": {
      "image/png": "[encoded data removed]",
      "text/plain": [
       "<matplotlib.figure.Figure at 0x213f24545f8>"
      ]
     },
     "metadata": {},
     "output_type": "display_data"
    }
   ],
   "source": [
    "plot_results(system, title='Proportional growth model')"
   ]
  },
  {
   "cell_type": "markdown",
   "metadata": {},
   "source": [
    "This notebook demonstrates the steps we recommend for starting your project:\n",
    "\n",
    "1.  Start with one of the examples from the book, either by copying a notebook or pasting code into a new notebook.  Get the code working before you make any changes.\n",
    "\n",
    "2.  Make one small change, and run the code again.\n",
    "\n",
    "3.  Repeat step 2 until you have a basic implementation of your model.\n",
    "\n",
    "If you start with working code that you understand and make small changes, you can avoid spending a lot of time debugging.\n",
    "\n",
    "One you have a basic model working, you can think about what metrics to measure, what parameters to sweep, and how to use the model to predict, explain, or design."
   ]
  },
  {
   "cell_type": "markdown",
   "metadata": {},
   "source": [
    "### Bonus question\n",
    "\n",
    "Suppose you only have room for 30 adult rabbits.  Whenever the adult population exceeds 30, you take any excess rabbits to market (as pets for kind children, of course).  Modify `run_simulation` to model this strategy.  What effect does it have on the behavior of the system?  You might have to run for more than 10 seasons to see what happens."
   ]
  },
  {
   "cell_type": "code",
   "execution_count": 7,
   "metadata": {},
   "outputs": [
    {
     "data": {
      "text/html": [
       "<div>\n",
       "<style>\n",
       "    .dataframe thead tr:only-child th {\n",
       "        text-align: right;\n",
       "    }\n",
       "\n",
       "    .dataframe thead th {\n",
       "        text-align: left;\n",
       "    }\n",
       "\n",
       "    .dataframe tbody tr th {\n",
       "        vertical-align: top;\n",
       "    }\n",
       "</style>\n",
       "<table border=\"1\" class=\"dataframe\">\n",
       "  <thead>\n",
       "    <tr style=\"text-align: right;\">\n",
       "      <th></th>\n",
       "      <th>value</th>\n",
       "    </tr>\n",
       "  </thead>\n",
       "  <tbody>\n",
       "    <tr>\n",
       "      <th>t0</th>\n",
       "      <td>0.00</td>\n",
       "    </tr>\n",
       "    <tr>\n",
       "      <th>t_end</th>\n",
       "      <td>30.00</td>\n",
       "    </tr>\n",
       "    <tr>\n",
       "      <th>adult_pop0</th>\n",
       "      <td>10.00</td>\n",
       "    </tr>\n",
       "    <tr>\n",
       "      <th>birth_rate</th>\n",
       "      <td>0.90</td>\n",
       "    </tr>\n",
       "    <tr>\n",
       "      <th>death_rate</th>\n",
       "      <td>0.50</td>\n",
       "    </tr>\n",
       "    <tr>\n",
       "      <th>juvenile_pop0</th>\n",
       "      <td>0.00</td>\n",
       "    </tr>\n",
       "    <tr>\n",
       "      <th>mature_rate</th>\n",
       "      <td>0.33</td>\n",
       "    </tr>\n",
       "    <tr>\n",
       "      <th>adult_pop_max</th>\n",
       "      <td>50.00</td>\n",
       "    </tr>\n",
       "  </tbody>\n",
       "</table>\n",
       "</div>"
      ],
      "text/plain": [
       "t0                0.00\n",
       "t_end            30.00\n",
       "adult_pop0       10.00\n",
       "birth_rate        0.90\n",
       "death_rate        0.50\n",
       "juvenile_pop0     0.00\n",
       "mature_rate       0.33\n",
       "adult_pop_max    50.00\n",
       "dtype: float64"
      ]
     },
     "execution_count": 7,
     "metadata": {},
     "output_type": "execute_result"
    }
   ],
   "source": [
    "system = System(t0 = 0, \n",
    "                t_end = 30,\n",
    "                adult_pop0 = 10,\n",
    "                birth_rate = 0.9,\n",
    "                death_rate = 0.5,\n",
    "                juvenile_pop0 = 0,\n",
    "                mature_rate = 0.33,\n",
    "                adult_pop_max = 50)\n",
    "\n",
    "system"
   ]
  },
  {
   "cell_type": "code",
   "execution_count": 8,
   "metadata": {
    "collapsed": true
   },
   "outputs": [],
   "source": [
    "def run_simulation(system):\n",
    "    \"\"\"Runs a proportional growth model.\n",
    "    \n",
    "    Adds TimeSeries to `system` as `results`.\n",
    "    \n",
    "    system: System object with t0, t_end, p0,\n",
    "            birth_rate and death_rate\n",
    "    \"\"\"\n",
    "    adults = TimeSeries()\n",
    "    adults[system.t0] = system.adult_pop0\n",
    "    \n",
    "    juvenile = TimeSeries()\n",
    "    juvenile[system.t0] = system.juvenile_pop0\n",
    "    \n",
    "    for t in linrange(system.t0, system.t_end):\n",
    "        births = system.birth_rate * adults[t]\n",
    "        deaths = system.death_rate * adults[t]\n",
    "        new_adults = system.mature_rate * juvenile[t]\n",
    "        \n",
    "        juvenile[t+1] = juvenile[t] + births - new_adults\n",
    "        \n",
    "        if adults[t] - deaths + new_adults<30:\n",
    "            adults[t+1] = adults[t] - deaths + new_adults\n",
    "        else:\n",
    "            adults[t+1] = 30\n",
    "            \n",
    "    system.adults = adults\n",
    "    system.juvenile = juvenile\n"
   ]
  },
  {
   "cell_type": "code",
   "execution_count": 9,
   "metadata": {},
   "outputs": [
    {
     "name": "stdout",
     "output_type": "stream",
     "text": [
      "0     10.000000\n",
      "1      5.000000\n",
      "2      5.470000\n",
      "3      6.209900\n",
      "4      7.057723\n",
      "5      8.021560\n",
      "6      9.117031\n",
      "7     10.362107\n",
      "8     11.777219\n",
      "9     13.385586\n",
      "10    15.213601\n",
      "11    17.291261\n",
      "12    19.652658\n",
      "13    22.336542\n",
      "14    25.386953\n",
      "15    28.853947\n",
      "16    30.000000\n",
      "17    30.000000\n",
      "18    30.000000\n",
      "19    30.000000\n",
      "20    30.000000\n",
      "21    30.000000\n",
      "22    30.000000\n",
      "23    30.000000\n",
      "24    30.000000\n",
      "25    30.000000\n",
      "26    30.000000\n",
      "27    30.000000\n",
      "28    30.000000\n",
      "29    30.000000\n",
      "30    30.000000\n",
      "31    30.000000\n",
      "dtype: float64 0      0.000000\n",
      "1      9.000000\n",
      "2     10.530000\n",
      "3     11.978100\n",
      "4     13.614237\n",
      "5     15.473489\n",
      "6     17.586642\n",
      "7     19.988378\n",
      "8     22.718110\n",
      "9     25.820630\n",
      "10    29.346849\n",
      "11    33.354630\n",
      "12    37.909737\n",
      "13    43.086916\n",
      "14    48.971122\n",
      "15    55.658910\n",
      "16    63.260022\n",
      "17    69.384214\n",
      "18    73.487424\n",
      "19    76.236574\n",
      "20    78.078504\n",
      "21    79.312598\n",
      "22    80.139441\n",
      "23    80.693425\n",
      "24    81.064595\n",
      "25    81.313279\n",
      "26    81.479897\n",
      "27    81.591531\n",
      "28    81.666326\n",
      "29    81.716438\n",
      "30    81.750014\n",
      "31    81.772509\n",
      "dtype: float64\n"
     ]
    },
    {
     "data": {
      "image/png": "[encoded data removed]",
      "text/plain": [
       "<matplotlib.figure.Figure at 0x213f23edbe0>"
      ]
     },
     "metadata": {},
     "output_type": "display_data"
    }
   ],
   "source": [
    "run_simulation(system)\n",
    "print(system.adults, system.juvenile)\n",
    "plot_results(system, title='Proportional growth model')"
   ]
  },
  {
   "cell_type": "code",
   "execution_count": null,
   "metadata": {
    "collapsed": true
   },
   "outputs": [],
   "source": []
  },
  {
   "cell_type": "code",
   "execution_count": null,
   "metadata": {
    "collapsed": true
   },
   "outputs": [],
   "source": []
  },
  {
   "cell_type": "code",
   "execution_count": null,
   "metadata": {
    "collapsed": true
   },
   "outputs": [],
   "source": []
  },
  {
   "cell_type": "code",
   "execution_count": null,
   "metadata": {
    "collapsed": true
   },
   "outputs": [],
   "source": []
  }
 ],
 "metadata": {
  "kernelspec": {
   "display_name": "Python 3",
   "language": "python",
   "name": "python3"
  },
  "language_info": {
   "codemirror_mode": {
    "name": "ipython",
    "version": 3
   },
   "file_extension": ".py",
   "mimetype": "text/x-python",
   "name": "python",
   "nbconvert_exporter": "python",
   "pygments_lexer": "ipython3",
   "version": "3.6.1"
  }
 },
 "nbformat": 4,
 "nbformat_minor": 1
}
